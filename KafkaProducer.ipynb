{
 "cells": [
  {
   "cell_type": "code",
   "execution_count": 1,
   "id": "105b1136-ed79-4d6e-b53c-f168d11d100b",
   "metadata": {},
   "outputs": [],
   "source": [
    "pip install kafka-python #If this doesn't work, please try the one below.\n",
    "#pip install git+https://github.com/dpkp/kafka-python.git"
   ]
  },
  {
   "cell_type": "code",
   "execution_count": 2,
   "id": "fe79eaa9-7847-4109-bebc-579e7f82146a",
   "metadata": {},
   "outputs": [],
   "source": [
    "import pandas as pd\n",
    "from kafka import KafkaProducer\n",
    "from time import sleep\n",
    "from json import dumps\n",
    "import json"
   ]
  },
  {
   "cell_type": "code",
   "execution_count": 3,
   "id": "d83c8b8f-c188-4b45-9bd4-ff75c8b943bc",
   "metadata": {},
   "outputs": [],
   "source": [
    "producer = KafkaProducer(bootstrap_servers=['your IP:9092'], #change ip here\n",
    "                         value_serializer=lambda x: \n",
    "                         dumps(x).encode('utf-8'))"
   ]
  },
  {
   "cell_type": "code",
   "execution_count": 3,
   "id": "e2cf1396-aa04-43e2-9335-f52339288537",
   "metadata": {},
   "outputs": [],
   "source": [
    "producer.send('Topic name', value={'name':'muhib'})"
   ]
  },
  {
   "cell_type": "code",
   "execution_count": null,
   "id": "172fb853-cc98-4109-bba8-e56ccbb2f335",
   "metadata": {},
   "outputs": [],
   "source": [
    "file_path = r\"path link\"\n",
    "df = pd.read_csv(file_path)"
   ]
  },
  {
   "cell_type": "code",
   "execution_count": 8,
   "id": "e78de18e-99d0-4734-becc-efc040b846ee",
   "metadata": {},
   "outputs": [],
   "source": [
    "df.head()"
   ]
  },
  {
   "cell_type": "code",
   "execution_count": 10,
   "id": "7b6cb7ac-d265-43b6-b568-7510dd7e0910",
   "metadata": {},
   "outputs": [],
   "source": [
    "while True:\n",
    "    dict_stock = df.sample(1).to_dict(orient=\"records\")[0]\n",
    "    producer.send('Topic name', value=dict_stock)\n",
    "    sleep(1)"
   ]
  },
  {
   "cell_type": "code",
   "execution_count": 8,
   "id": "95407848-1e1e-4396-a4d4-30eaf45e18b2",
   "metadata": {},
   "outputs": [],
   "source": [
    "producer.flush() #clear data from kafka server"
   ]
  }
 ],
 "metadata": {
  "kernelspec": {
   "display_name": "Python 3 (ipykernel)",
   "language": "python",
   "name": "python3"
  },
  "language_info": {
   "codemirror_mode": {
    "name": "ipython",
    "version": 3
   },
   "file_extension": ".py",
   "mimetype": "text/x-python",
   "name": "python",
   "nbconvert_exporter": "python",
   "pygments_lexer": "ipython3",
   "version": "3.11.7"
  }
 },
 "nbformat": 4,
 "nbformat_minor": 5
}
